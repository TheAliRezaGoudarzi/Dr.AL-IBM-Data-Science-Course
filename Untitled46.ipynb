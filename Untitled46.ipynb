{
 "cells": [
  {
   "cell_type": "markdown",
   "id": "55026474-5aa2-415c-a36f-106bc1d7fa80",
   "metadata": {},
   "source": [
    "## Note Book\n"
   ]
  },
  {
   "cell_type": "markdown",
   "id": "5dfc7ed9-06fc-4968-a783-d06ebeef556d",
   "metadata": {},
   "source": [
    "In this notebook we summarize some of the most commonly used languages, libraries, and platforms in Data Science.  \r\n",
    "We also show simple arithmetic operations in Python and a quick unit‑conversion example.\r\n"
   ]
  },
  {
   "cell_type": "markdown",
   "id": "51f428d1-e20d-447b-b301-f5743cfac8fa",
   "metadata": {},
   "source": [
    "### Popular languages for Data Science  \r\n",
    "- Python  \r\n",
    "- R  \r\n",
    "- SQL  \r\n",
    "- Julia  \r\n",
    "- Scala  \r\n",
    "- Java  \r\n",
    "- C++  \r\n",
    "- JavaScript  \r\n"
   ]
  },
  {
   "cell_type": "markdown",
   "id": "e74d2bc3-1c34-4944-97d0-f3945e613d39",
   "metadata": {},
   "source": [
    "### Commonly used Data Science libraries  \r\n",
    "- pandas  \r\n",
    "- NumPy  \r\n",
    "- SciPy  \r\n",
    "- scikit‑learn  \r\n",
    "- TensorFlow  \r\n",
    "- PyTorch  \r\n",
    "- Keras  \r\n",
    "- Matplotlib  \r\n",
    "- Seaborn  \r\n",
    "- ggplot2 (for R)  \r\n"
   ]
  },
  {
   "cell_type": "markdown",
   "id": "eea98051-e30c-4d3b-9c6a-3124604511ac",
   "metadata": {},
   "source": [
    "| Tool / Platform     | Typical Use Case                          |\r\n",
    "|---------------------|-------------------------------------------|\r\n",
    "| JupyterLab / Notebook | Interactive coding & exploration        |\r\n",
    "| RStudio             | R development & visualization            |\r\n",
    "| VS Code + Python extension | Lightweight IDE for multi‑language work |\r\n",
    "| Apache Zeppelin     | Multi‑language notebooks on clusters      |\r\n",
    "| Google Colab        | Free GPU notebooks in the cloud           |\r\n"
   ]
  },
  {
   "cell_type": "markdown",
   "id": "3ff51a8b-c12a-4c6a-8bda-cdbb56314598",
   "metadata": {},
   "source": [
    "### Examples of evaluating arithmetic expressions in Python\r\n",
    "The next code cell multiplies and adds numbers.\r\n"
   ]
  },
  {
   "cell_type": "code",
   "execution_count": 18,
   "id": "2fdef460-4ce4-4219-9f16-8a0b1c49e636",
   "metadata": {},
   "outputs": [
    {
     "data": {
      "text/plain": [
       "17"
      ]
     },
     "execution_count": 18,
     "metadata": {},
     "output_type": "execute_result"
    }
   ],
   "source": [
    "# This expression multiplies 3 by 4 and then adds 5\n",
    "(3 * 4) + 5\n"
   ]
  },
  {
   "cell_type": "code",
   "execution_count": 20,
   "id": "0fe1c21a-df67-415c-9afd-2cded1b069ab",
   "metadata": {},
   "outputs": [
    {
     "name": "stdout",
     "output_type": "stream",
     "text": [
      "200 minutes is 3.33 hours\n"
     ]
    }
   ],
   "source": [
    "# Convert 200 minutes to hours\n",
    "minutes = 200\n",
    "hours = minutes / 60\n",
    "print(f\"{minutes} minutes is {hours:.2f} hours\")\n"
   ]
  },
  {
   "cell_type": "markdown",
   "id": "58b26378-ac4d-452a-8daa-78f078bcedef",
   "metadata": {},
   "source": [
    "### Objectives\r\n",
    "- List languages and libraries used by Data Scientists  \r\n",
    "- Demonstrate a basic arithmetic operation in Python  \r\n",
    "- Convert minutes to fractional hours using Python code  \r\n",
    "- Practice creating markdown tables in Jupyter  \r\n",
    "- Upload the notebook to GitHub and share a link  \r\n"
   ]
  },
  {
   "cell_type": "markdown",
   "id": "491bd5e0-fa49-4cde-b0b3-0d7d895dc013",
   "metadata": {},
   "source": [
    "**Author**: Alireza Goudarzi\r\n"
   ]
  },
  {
   "cell_type": "code",
   "execution_count": null,
   "id": "67ccca9a-ca17-4e7a-9624-b92f31c17df7",
   "metadata": {},
   "outputs": [],
   "source": []
  }
 ],
 "metadata": {
  "kernelspec": {
   "display_name": "Python 3 (ipykernel)",
   "language": "python",
   "name": "python3"
  },
  "language_info": {
   "codemirror_mode": {
    "name": "ipython",
    "version": 3
   },
   "file_extension": ".py",
   "mimetype": "text/x-python",
   "name": "python",
   "nbconvert_exporter": "python",
   "pygments_lexer": "ipython3",
   "version": "3.12.3"
  }
 },
 "nbformat": 4,
 "nbformat_minor": 5
}
